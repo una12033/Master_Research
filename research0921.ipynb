{
  "nbformat": 4,
  "nbformat_minor": 0,
  "metadata": {
    "colab": {
      "provenance": []
    },
    "kernelspec": {
      "name": "python3",
      "display_name": "Python 3"
    },
    "language_info": {
      "name": "python"
    }
  },
  "cells": [
    {
      "cell_type": "code",
      "execution_count": null,
      "metadata": {
        "id": "sdgEudphCWKv"
      },
      "outputs": [],
      "source": [
        "import os\n",
        "#os.chdir('/content/drive/MyDrive/碩一/')\n",
        "import pandas as pd\n",
        "import numpy as np\n",
        "from sklearn.linear_model import LinearRegression\n",
        "from sklearn.model_selection import train_test_split\n",
        "from sklearn.linear_model import LinearRegression\n",
        "from sklearn.preprocessing import OneHotEncoder, LabelEncoder\n",
        "from sklearn.compose import ColumnTransformer\n",
        "from sklearn.pipeline import Pipeline\n",
        "from sklearn.metrics import mean_squared_error, mean_absolute_error, r2_score\n",
        "import joblib\n",
        "import random\n",
        "import re\n",
        "import math as m\n",
        "import copy"
      ]
    },
    {
      "cell_type": "code",
      "source": [
        "# file_list= os.listdir('C:/Users/una12/Desktop/code/input/rainfall')\n",
        "# for name in file_list:\n",
        "#   file_name= 'C:/Users/una12/Desktop/code/input/rainfall/'+name\n",
        "#   input= pd.read_csv(file_name)\n",
        "#   input=input.drop(['Unnamed: 0'], axis=1)\n",
        "#   input.replace(\"-\", 0, inplace=True)\n",
        "#   input.replace(\"T\", 0, inplace=True)\n",
        "#   #print(input)\n",
        "#   input.to_csv('C:/Users/una12/Desktop/code/input/new_rainfall/'+name, index=False)"
      ],
      "metadata": {
        "id": "xX55wbXNCXqM"
      },
      "execution_count": null,
      "outputs": []
    },
    {
      "cell_type": "code",
      "source": [
        "y12= pd.read_csv('C:/Users/una12/Desktop/code/input/new_rainfall/2012.csv')\n",
        "y13= pd.read_csv('C:/Users/una12/Desktop/code/input/new_rainfall/2013.csv')\n",
        "y14= pd.read_csv('C:/Users/una12/Desktop/code/input/new_rainfall/2014.csv')\n",
        "y15= pd.read_csv('C:/Users/una12/Desktop/code/input/new_rainfall/2015.csv')\n",
        "y16= pd.read_csv('C:/Users/una12/Desktop/code/input/new_rainfall/2016.csv')\n",
        "y17= pd.read_csv('C:/Users/una12/Desktop/code/input/new_rainfall/2017.csv')\n",
        "y18= pd.read_csv('C:/Users/una12/Desktop/code/input/new_rainfall/2018.csv')\n",
        "y19= pd.read_csv('C:/Users/una12/Desktop/code/input/new_rainfall/2019.csv')\n",
        "y20= pd.read_csv('C:/Users/una12/Desktop/code/input/new_rainfall/2020.csv')\n",
        "y21= pd.read_csv('C:/Users/una12/Desktop/code/input/new_rainfall/2021.csv')\n",
        "y22= pd.read_csv('C:/Users/una12/Desktop/code/input/new_rainfall/2022.csv')"
      ],
      "metadata": {
        "id": "9ky1kcN_CZLe"
      },
      "execution_count": null,
      "outputs": []
    },
    {
      "cell_type": "code",
      "source": [
        "#模擬的年份\n",
        "years=30"
      ],
      "metadata": {
        "id": "stiHDaLuCc0e"
      },
      "execution_count": null,
      "outputs": []
    },
    {
      "cell_type": "code",
      "source": [
        "def wet_prob(year):\n",
        "  new_y= year.iloc[:-1]\n",
        "  w_pl, ww_pl, dw_pl, ww_countl, dw_countl, w_countl=[], [], [],[],[],[]\n",
        "  for col in new_y:\n",
        "    indexes = np.where((new_y[col]!=0.0) & (~new_y[col].isna()))[0]\n",
        "    w_count= len(indexes)\n",
        "    day= 31- sum(new_y[col].isna())\n",
        "    rain_p= len(indexes)/day # rain probability\n",
        "    w_pl.append(rain_p)\n",
        "\n",
        "\n",
        "    ww_count=0\n",
        "    dw_count=0\n",
        "    #print('index', indexes)\n",
        "    if len(indexes)!=0:\n",
        "      for idx in indexes:\n",
        "        m1= idx-1\n",
        "        if m1 in indexes:\n",
        "          ww_count+=1\n",
        "      ww_p= ww_count/len(indexes)\n",
        "      dw_count= len(indexes)-ww_count\n",
        "      dw_p= (len(indexes)-ww_count)/len(indexes)\n",
        "    else:\n",
        "      ww_p=0\n",
        "      dw_p=0\n",
        "    ww_pl.append(ww_p)\n",
        "    dw_pl.append(dw_p)\n",
        "    ww_countl.append(ww_count)\n",
        "    dw_countl.append(dw_count)\n",
        "    w_countl.append(w_count)\n",
        "  #print(wp)\n",
        "  return w_pl, ww_pl, dw_pl, ww_countl, dw_countl, w_countl"
      ],
      "metadata": {
        "id": "TL3X5SLkCdVn"
      },
      "execution_count": null,
      "outputs": []
    },
    {
      "cell_type": "code",
      "source": [
        "w_pl13, ww_pl13, dw_pl13, ww_count13, dw_count13, w_count13= wet_prob(y13)"
      ],
      "metadata": {
        "id": "eij8hj4tCehi"
      },
      "execution_count": null,
      "outputs": []
    },
    {
      "cell_type": "code",
      "source": [
        "print(w_pl13, ww_pl13, dw_pl13, ww_count13, dw_count13, w_count13)"
      ],
      "metadata": {
        "id": "XLZLnOSQCg3q"
      },
      "execution_count": null,
      "outputs": []
    },
    {
      "cell_type": "code",
      "source": [
        "w_pl13, ww_pl13, dw_pl13, ww_count13, dw_count13, w_count13= wet_prob(y13)\n",
        "w_pl14, ww_pl14, dw_pl14, ww_count14, dw_count14, w_count14= wet_prob(y14)\n",
        "w_pl15, ww_pl15, dw_pl15, ww_count15, dw_count15, w_count15= wet_prob(y15)\n",
        "w_pl16, ww_pl16, dw_pl16, ww_count16, dw_count16, w_count16= wet_prob(y16)\n",
        "w_pl17, ww_pl17, dw_pl17, ww_count17, dw_count17, w_count17= wet_prob(y17)\n",
        "w_pl18, ww_pl18, dw_pl18, ww_count18, dw_count18, w_count18= wet_prob(y18)\n",
        "w_pl19, ww_pl19, dw_pl19, ww_count19, dw_count19, w_count19= wet_prob(y19)\n",
        "w_pl20, ww_pl20, dw_pl20, ww_count20, dw_count20, w_count20= wet_prob(y20)\n",
        "w_pl21, ww_pl21, dw_pl21, ww_count21, dw_count21, w_count21= wet_prob(y21)\n",
        "w_pl22, ww_pl22, dw_pl22, ww_count22, dw_count22, w_count22= wet_prob(y22)"
      ],
      "metadata": {
        "id": "6m5Cna7eCht1"
      },
      "execution_count": null,
      "outputs": []
    },
    {
      "cell_type": "code",
      "source": [
        "ww_pl, dw_pl=[],[]\n",
        "for i in range(12):\n",
        "  w_count= w_count22[i]+w_count13[i]+w_count14[i]+w_count15[i]+w_count16[i]+w_count17[i]+w_count18[i]+w_count19[i]+w_count20[i]+w_count21[i]\n",
        "  ww_p=(ww_count22[i]+ww_count13[i]+ww_count14[i]+ww_count15[i]+ww_count16[i]+ww_count17[i]+ww_count18[i]+ww_count19[i]+ww_count20[i]+ww_count21[i])/w_count\n",
        "  dw_p=(dw_count22[i]+dw_count13[i]+dw_count14[i]+dw_count15[i]+dw_count16[i]+dw_count17[i]+dw_count18[i]+dw_count19[i]+dw_count20[i]+dw_count21[i])/w_count\n",
        "  ww_pl.append(ww_p)\n",
        "  dw_pl.append(dw_p)"
      ],
      "metadata": {
        "id": "TeIcdhAeCi1R"
      },
      "execution_count": null,
      "outputs": []
    },
    {
      "cell_type": "code",
      "source": [
        "print(ww_pl)\n",
        "print(dw_pl)"
      ],
      "metadata": {
        "id": "6SZtLJPPCj3B"
      },
      "execution_count": null,
      "outputs": []
    },
    {
      "cell_type": "code",
      "source": [
        "#10年中每個月下雨的天數\n",
        "rainday_c_l=[]\n",
        "for col in y12.columns:\n",
        "  c= int(col)-1\n",
        "  rainday_c= w_count13[c]+w_count14[c]+w_count15[c]+w_count16[c]+w_count17[c]+w_count18[c]+w_count19[c]+w_count20[c]+w_count21[c]+w_count22[c]\n",
        "  rainday_c_l.append(rainday_c)\n",
        "print(rainday_c_l)"
      ],
      "metadata": {
        "id": "wDknajLjCj8f"
      },
      "execution_count": null,
      "outputs": []
    },
    {
      "cell_type": "code",
      "source": [
        "#10年中，每個月有幾天\n",
        "month_d= [31,27,31,30,31,30,31,31,30,31,30,31]"
      ],
      "metadata": {
        "id": "-vh7V8XtCnlA"
      },
      "execution_count": null,
      "outputs": []
    },
    {
      "cell_type": "code",
      "source": [
        "#每個月下雨機率\n",
        "w_p_l=[]\n",
        "for i in range(12):\n",
        "  w_p= rainday_c_l[i]/(month_d[i]*10)\n",
        "  w_p_l.append(w_p)\n",
        "print(w_p_l)"
      ],
      "metadata": {
        "id": "B1Fnap1KCp26"
      },
      "execution_count": null,
      "outputs": []
    },
    {
      "cell_type": "code",
      "source": [
        "rain_amount_var_l, rain_amount_avg_l=[], []\n",
        "for col in y13.columns:\n",
        "  rain_amount_l=[]\n",
        "  index= np.where((y13[col]!=0.0) & (~y13[col].isna()))[0]\n",
        "  for idx in index:\n",
        "    rain_amount_l.append(y13[col].iloc[idx])\n",
        "\n",
        "  index= np.where((y14[col]!=0.0) & (~y14[col].isna()))[0]\n",
        "  for idx in index:\n",
        "    rain_amount_l.append(y14[col].iloc[idx])\n",
        "\n",
        "  index= np.where((y15[col]!=0.0) & (~y15[col].isna()))[0]\n",
        "  for idx in index:\n",
        "    rain_amount_l.append(y15[col].iloc[idx])\n",
        "\n",
        "  index= np.where((y16[col]!=0.0) & (~y16[col].isna()))[0]\n",
        "  for idx in index:\n",
        "    rain_amount_l.append(y16[col].iloc[idx])\n",
        "\n",
        "  index= np.where((y17[col]!=0.0) & (~y17[col].isna()))[0]\n",
        "  for idx in index:\n",
        "    rain_amount_l.append(y17[col].iloc[idx])\n",
        "\n",
        "  index= np.where((y18[col]!=0.0) & (~y18[col].isna()))[0]\n",
        "  for idx in index:\n",
        "    rain_amount_l.append(y18[col].iloc[idx])\n",
        "\n",
        "  index= np.where((y19[col]!=0.0) & (~y19[col].isna()))[0]\n",
        "  for idx in index:\n",
        "    rain_amount_l.append(y19[col].iloc[idx])\n",
        "\n",
        "  index= np.where((y20[col]!=0.0) & (~y20[col].isna()))[0]\n",
        "  for idx in index:\n",
        "    rain_amount_l.append(y20[col].iloc[idx])\n",
        "\n",
        "  index= np.where((y21[col]!=0.0) & (~y21[col].isna()))[0]\n",
        "  for idx in index:\n",
        "    rain_amount_l.append(y21[col].iloc[idx])\n",
        "\n",
        "  index= np.where((y22[col]!=0.0) & (~y22[col].isna()))[0]\n",
        "  for idx in index:\n",
        "    rain_amount_l.append(y22[col].iloc[idx])\n",
        "\n",
        "  #print(rain_amount_l)\n",
        "  rain_amount_var= np.var(rain_amount_l)\n",
        "  rain_amount_avg= np.average(rain_amount_l)\n",
        "  rain_amount_var_l.append(rain_amount_var)\n",
        "  rain_amount_avg_l.append(rain_amount_avg)"
      ],
      "metadata": {
        "id": "tzGBlCeiCrZu"
      },
      "execution_count": null,
      "outputs": []
    },
    {
      "cell_type": "code",
      "source": [
        "print(rain_amount_var_l)\n",
        "print(rain_amount_avg_l)"
      ],
      "metadata": {
        "id": "6YC7-ARWCyIf"
      },
      "execution_count": null,
      "outputs": []
    },
    {
      "cell_type": "code",
      "source": [
        "alpha_l, beta_l=[],[]\n",
        "#gamma distribution parameters\n",
        "for i in range(12):\n",
        "  alpha= rain_amount_avg_l[i]**2/rain_amount_var_l[i]\n",
        "  beta= rain_amount_var_l[i]/rain_amount_avg_l[i]\n",
        "  alpha_l.append(alpha)\n",
        "  beta_l.append(beta)\n",
        "print(alpha_l)\n",
        "print(beta_l)"
      ],
      "metadata": {
        "id": "aJY61JB8Cy_x"
      },
      "execution_count": null,
      "outputs": []
    },
    {
      "cell_type": "code",
      "source": [
        "# generate random variable from gamma distribution\n",
        "i=0\n",
        "rain_a= np.random.gamma(alpha_l[i], beta_l[i])\n"
      ],
      "metadata": {
        "id": "nkRyURznCz5e"
      },
      "execution_count": null,
      "outputs": []
    },
    {
      "cell_type": "code",
      "source": [
        "#m:月份\n",
        "def generate_rain(m):\n",
        "  rain_list=[]\n",
        "  d1= np.random.binomial(1, w_p_l[m])\n",
        "  if d1==1:\n",
        "    rain= round(np.random.gamma(alpha_l[m], beta_l[m]),2)\n",
        "    if rain<0.1:\n",
        "      rain=0\n",
        "  else:\n",
        "    rain=0\n",
        "  rain_list.append(rain)\n",
        "  for i in range(1,month_d[m]):\n",
        "    ran= np.random.uniform(0.1)\n",
        "    if rain_list[i-1]==0:\n",
        "      pc= dw_pl[m]\n",
        "    else:\n",
        "      pc= ww_pl[m]\n",
        "    if pc>=ran: #下雨\n",
        "      rain= round(np.random.gamma(alpha_l[m], beta_l[m]),2)\n",
        "      if rain<0.1:\n",
        "        rain=0\n",
        "      rain_list.append(rain)\n",
        "    else:\n",
        "      rain_list.append(0)\n",
        "\n",
        "  return rain_list"
      ],
      "metadata": {
        "id": "yCEgn1tJC0yR"
      },
      "execution_count": null,
      "outputs": []
    },
    {
      "cell_type": "code",
      "source": [
        "rain_list0= generate_rain(0)\n",
        "print(len(rain_list0))"
      ],
      "metadata": {
        "id": "nZUyc4uVC1sZ"
      },
      "execution_count": null,
      "outputs": []
    },
    {
      "cell_type": "code",
      "source": [
        "def rain_interval(years ):\n",
        "    rain_m= [] #隨機生成一年份的雨量\n",
        "    rain_y=[]\n",
        "    for j in range(years):\n",
        "        rain_m= []\n",
        "        for i in range(12):\n",
        "                rain_m.append(generate_rain(i))\n",
        "        rain_y.append(rain_m)\n",
        "\n",
        "    r_interval1, r_interval2, r_interval3,r_interval4=[0 for x in range(years)],[0 for x in range(years)],[0 for x in range(years)],[0 for x in range(years)]\n",
        "    r2,r3,r4=[[] for x in range(years)],[[] for x in range(years)],[[] for x in range(years)]\n",
        "    for j in range(years):\n",
        "        for i in range(12):\n",
        "            for rain in rain_y[j][i]:\n",
        "                if rain<=150:\n",
        "                    r_interval1[j]+=1\n",
        "                elif 150<rain<=450:\n",
        "                    r_interval2[j]+=1\n",
        "                    r2[j].append(rain)\n",
        "                elif 450<rain<=600:\n",
        "                    r_interval3[j]+=1\n",
        "                    r3[j].append(rain)\n",
        "                else:\n",
        "                    r_interval4[j]+=1\n",
        "                    r4[j].append(rain)\n",
        "    return rain_y, r_interval2, r_interval3,r_interval4, r2, r3, r4"
      ],
      "metadata": {
        "id": "v3m1KzCqC2d9"
      },
      "execution_count": null,
      "outputs": []
    },
    {
      "cell_type": "code",
      "source": [
        "# i =catalog[0]\n",
        "# data= pd.read_csv('C:/Users/una12/Desktop/code/input/data/'+i)\n",
        "# data= data.drop(['Unnamed: 0','291'],axis=1)\n",
        "# #data.drop(291, inplace=True)\n",
        "# print(data)"
      ],
      "metadata": {
        "id": "VtxpPxBAC3Xn"
      },
      "execution_count": null,
      "outputs": []
    },
    {
      "cell_type": "code",
      "source": [
        "# catalog= os.listdir('C:/Users/una12/Desktop/code/input/data')\n",
        "# for  i in catalog:\n",
        "#     data= pd.read_csv('C:/Users/una12/Desktop/code/input/data/'+i)\n",
        "#     data=data.drop(['Unnamed: 0','291'],axis=1)\n",
        "#     data.to_csv('C:/Users/una12/Desktop/code/input/data/'+i,index=False)\n",
        ""
      ],
      "metadata": {
        "id": "K5jSjLPGC4MA"
      },
      "execution_count": null,
      "outputs": []
    },
    {
      "cell_type": "code",
      "source": [
        "#讀防洪建設組合造成淹水深度的資料\n",
        "choice= []\n",
        "catalog= os.listdir('C:/Users/una12/Desktop/code/input/data')\n",
        "for  i in catalog:\n",
        "    name_list= i.split('.csv')\n",
        "    name= name_list[0]\n",
        "    choice.append(name)\n",
        "    globals()[name]= pd.read_csv('C:/Users/una12/Desktop/code/input/data/'+i)"
      ],
      "metadata": {
        "id": "zlMZ8CAEC4-C"
      },
      "execution_count": null,
      "outputs": []
    },
    {
      "cell_type": "markdown",
      "source": [],
      "metadata": {
        "id": "Cy9HDF9_C5xI"
      }
    },
    {
      "cell_type": "code",
      "source": [
        "matrix = np.zeros((305, 291))\n",
        "for c in choice:\n",
        "    data= globals()[c]\n",
        "    index= np.where(data>0.1)\n",
        "    for i in range(len(index[0])):\n",
        "        row_idx= index[0][i]\n",
        "        col_idx= index[1][i]\n",
        "        matrix[row_idx][col_idx]+=1\n",
        "#matrix=pd.DataFrame(matrix)\n",
        "# matrix.to_csv('C:/Users/una12/Desktop/code/input/count.csv', index=False)"
      ],
      "metadata": {
        "id": "5xTBQnL2C6Po"
      },
      "execution_count": null,
      "outputs": []
    },
    {
      "cell_type": "code",
      "source": [
        "# #建立regression(解釋變數: 個防洪建設的組合，目標變數：淹水深度，在雨量為570下)\n",
        "\n",
        "# non0_index= np.where(matrix!=0)\n",
        "# for i in range(len(non0_index[0])): #\n",
        "#     regression_d=np.array([])\n",
        "#     row_idx= non0_index[0][i]\n",
        "#     col_idx= non0_index[1][i]\n",
        "#     #print(row_idx, col_idx)\n",
        "#     for c1 in catalog:\n",
        "#         name_list= c1.split('.csv')\n",
        "#         c= name_list[0]\n",
        "#         data= globals()[c]\n",
        "#         #if data.iloc[row_idx,col_idx]!=0:\n",
        "#             #print(c)\n",
        "#             #print(data.iloc[row_idx,col_idx])\n",
        "#         var= c.split('_')\n",
        "#         var= [int(x) for x in var]\n",
        "\n",
        "#         if var[2]==1:\n",
        "#             var[2]=0\n",
        "#         elif var[2]==2:\n",
        "#             var[2]=25\n",
        "#         elif var[2]==3:\n",
        "#             var[2]=50\n",
        "#         if var[3]==1:\n",
        "#             var[3]=0\n",
        "#         elif var[3]==2:\n",
        "#             var[3]=1\n",
        "#         elif var[3]==3:\n",
        "#             var[3]=2\n",
        "#         if var[4]==1:\n",
        "#             var[4]= 0\n",
        "#         elif var[4]==2:\n",
        "#             var[4]=10\n",
        "#         elif var[4]==3:\n",
        "#             var[4]=20\n",
        "#         var.append(data.iloc[row_idx,col_idx])\n",
        "#         if len(regression_d)== 0:\n",
        "#             regression_d= np.array([var])\n",
        "#         else:\n",
        "#             regression_d= np.append(regression_d,[np.array(var)],axis=0)\n",
        "#     regression_d=pd.DataFrame(regression_d)\n",
        "#     file_n=str(row_idx)+'_'+str(col_idx)+'.csv'\n",
        "\n",
        "#     regression_d.to_csv('C:/Users/una12/Desktop/code/input/regression_data1/'+file_n, index=False)"
      ],
      "metadata": {
        "id": "1Ifd8MLYC7Nt"
      },
      "execution_count": null,
      "outputs": []
    },
    {
      "cell_type": "code",
      "source": [
        "# #如果淹水深度不會因防洪建設組合而變化，則不用建立regreesion 模型\n",
        "# r_catalog= os.listdir('C:/Users/una12/Desktop/code/input/regression_data')\n",
        "# reg_catalog=[]\n",
        "# nreg_catalog=[]\n",
        "# nreg_value=[]\n",
        "# k=0\n",
        "# for rd in r_catalog:\n",
        "#     data= pd.read_csv('C:/Users/una12/Desktop/code/input/regression_data/'+rd)\n",
        "\n",
        "#     if data['5'].nunique() != 1:#不相同\n",
        "#         #print(rd, np.shape(data)[0])\n",
        "#         reg_catalog.append(rd)\n",
        "#         k+=1\n",
        "#     else:\n",
        "#         nreg_catalog.append(rd)\n",
        "#         nreg_value.append(data['5'].iloc[0])\n",
        "\n",
        "# print(k)# regression model數量\n",
        "\n",
        "# nreg_df= {'cat':nreg_catalog,'value':nreg_value}\n",
        "# nreg_cat_df= pd.DataFrame(nreg_df)\n",
        "\n",
        "# reg_cat_df= pd.DataFrame(reg_catalog, columns=['cat'])\n",
        "\n",
        "# reg_cat_df.to_csv('C:/Users/una12/Desktop/code/input/catalog/reg_catalog.csv',index=False)\n",
        "# nreg_cat_df.to_csv('C:/Users/una12/Desktop/code/input/catalog/nreg_catalog.csv',index=False)\n"
      ],
      "metadata": {
        "id": "4iMyXh_4C8EU"
      },
      "execution_count": null,
      "outputs": []
    },
    {
      "cell_type": "code",
      "source": [
        "reg_catalog= pd.read_csv('C:/Users/una12/Desktop/code/input/catalog/reg_catalog.csv')['cat']\n",
        "nreg_catalog= pd.read_csv('C:/Users/una12/Desktop/code/input/catalog/nreg_catalog.csv')['cat']\n",
        "nreg_value= pd.read_csv('C:/Users/una12/Desktop/code/input/catalog/nreg_catalog.csv')['value']"
      ],
      "metadata": {
        "id": "SGqQeHV2C89o"
      },
      "execution_count": null,
      "outputs": []
    },
    {
      "cell_type": "code",
      "source": [
        "# #122_152 column20 50->0\n",
        "# #rd= reg_catalog[0]\n",
        "# #訓練regression model\n",
        "# reg1_dict= dict()\n",
        "# for rd in r_catalog:\n",
        "#     rd1= rd.split('.csv')[0]\n",
        "#     data= pd.read_csv('C:/Users/una12/Desktop/code/input/regression_data1/'+rd)\n",
        "#     X = data.drop(columns=[\"5\"])\n",
        "#     y = data[\"5\"]\n",
        "#     # 列出離散變數的列名稱\n",
        "#     categorical_features = [\"0\",'1']\n",
        "\n",
        "#     # 創建一個ColumnTransformer，使用One-Hot Encoding處理離散變數\n",
        "#     preprocessor = ColumnTransformer(\n",
        "#     transformers=[\n",
        "#         ('cat', OneHotEncoder(), categorical_features)\n",
        "#     ],\n",
        "#     remainder='passthrough'  # 其他特徵保持不變\n",
        "#     )\n",
        "#     model = LinearRegression()\n",
        "\n",
        "#     globals()['m'+rd1] = Pipeline([\n",
        "#     ('preprocessor', preprocessor),\n",
        "#     ('model', model)\n",
        "#     ])\n",
        "#     X_train, X_test, y_train, y_test = train_test_split(X, y, test_size=0.2, random_state=42)\n",
        "#     globals()['m'+rd1].fit(X_train, y_train)\n",
        "#     # #保存模型\n",
        "#     # model_name= 'm'+rd1\n",
        "#     # joblib.dump(globals()['m'+rd1],model_name)\n",
        "#     # loaded_model = joblib.load(model_name)\n",
        "\n",
        "#     y_pred = globals()['m'+rd1].predict(X_test)\n",
        "#     # print(y_pred)\n",
        "#     # 获取线性回归模型的系数\n",
        "#     coefficients = globals()['m'+rd1].named_steps['model'].coef_\n",
        "#     reg1_dict['m'+rd1]= coefficients\n",
        "#     # print(\"模型系数：\", coefficients)\n",
        "\n",
        "#     # # 计算均方误差（MSE）\n",
        "#     # y_true= y_test\n",
        "#     # mse = mean_squared_error(y_true, y_pred)\n",
        "#     # print(\"均方误差 (MSE):\", mse)\n",
        "\n",
        "#     # # 计算均方根误差（RMSE）\n",
        "#     # rmse = np.sqrt(mse)\n",
        "#     # print(\"均方根误差 (RMSE):\", rmse)\n",
        "\n",
        "#     # # 计算平均绝对误差（MAE）\n",
        "#     # mae = mean_absolute_error(y_true, y_pred)\n",
        "#     # print(\"平均绝对误差 (MAE):\", mae)\n",
        "\n",
        "#     # # 计算R平方（R-squared）\n",
        "#     # r2 = r2_score(y_true, y_pred)\n",
        "#     # print(\"R平方 (R²):\", r2)"
      ],
      "metadata": {
        "id": "8EY535whC9uB"
      },
      "execution_count": null,
      "outputs": []
    },
    {
      "cell_type": "code",
      "source": [
        "# reg1_df = pd.DataFrame(reg1_dict)\n",
        "# print(reg1_df)\n",
        "# reg1_df.to_csv('C:/Users/una12/Desktop/code/input/reg1_coef.csv', index=False)"
      ],
      "metadata": {
        "id": "nAQFmk7bC-jd"
      },
      "execution_count": null,
      "outputs": []
    },
    {
      "cell_type": "code",
      "source": [
        "#雨量轉淹水損失\n",
        "#先假設一毫米深的淹水深度造成的損失是258元,先算雨量為576的時候\n",
        "ori_cost_m= np.full((305, 291), 258)\n",
        "grid_row_n= 305\n",
        "grid_col_n= 291\n"
      ],
      "metadata": {
        "id": "YJJQUSoWC_98"
      },
      "execution_count": null,
      "outputs": []
    },
    {
      "cell_type": "code",
      "source": [
        "infra_type=5\n",
        "#construction period(year)\n",
        "con_time0=2\n",
        "con_time1=2\n",
        "con_time2=2\n",
        "con_time3=3\n",
        "con_time4=1\n",
        "con_time_l= [con_time0,con_time1,con_time2,con_time3,con_time4]\n",
        "\n",
        "# construction frequency (maximum limit)\n",
        "con_fre0=1\n",
        "con_fre1=1\n",
        "con_fre2=3\n",
        "con_fre3=3\n",
        "con_fre4=5\n",
        "con_fre_l=[con_fre0,con_fre1,con_fre2,con_fre3,con_fre4]\n",
        "\n",
        "#budget\n",
        "budget_l=[10000000 for i in range(years)]\n",
        "\n",
        "# infrastructure construction cost\n",
        "con_cost0= 5000000\n",
        "con_cost1= 4000000\n",
        "con_cost2= 3000000\n",
        "con_cost3= 6000000\n",
        "con_cost4= 2000000,\n",
        "con_cost= [con_cost0, con_cost1, con_cost2, con_cost3, con_cost4]\n",
        "\n",
        "# infrastructure maintenance cost rate\n",
        "main_r0= 0.2\n",
        "main_r1= 0.2\n",
        "main_r2= 0.2\n",
        "main_r3= 0.2\n",
        "main_r4= 0.2\n",
        "main_r_l=[main_r0, main_r1,main_r2,main_r3,main_r4]\n",
        "\n",
        "\n",
        "# maxima construction size\n",
        "max_size0= 3\n",
        "max_size1= 3\n",
        "max_size2= 60\n",
        "max_size3= 3\n",
        "max_size4= 30\n",
        "max_size_l= [max_size0, max_size1, max_size2, max_size3, max_size4]\n",
        "\n",
        "discrete_var_idx_l=[0,1]\n",
        "continuous_var_idx_l=[2,3,4]"
      ],
      "metadata": {
        "id": "ZPHJ58cNDAur"
      },
      "execution_count": null,
      "outputs": []
    },
    {
      "cell_type": "code",
      "source": [
        "def initialize_scheduling():\n",
        "    sol_tf= [[0 for x in range(years)] for x in range(infra_type)]\n",
        "    sprinkle_time=round(np.random.uniform(1, 3))\n",
        "    #print('time',sprinkle_time)\n",
        "    for j in range(sprinkle_time):\n",
        "        sprinkle_num= round(np.random.uniform(8,15))\n",
        "        #print('num',sprinkle_num)\n",
        "        for i in range(sprinkle_num):\n",
        "            choose_row= random.randint(0, infra_type-1)\n",
        "            choose_col= random.randint(0, years-1)\n",
        "            #print(choose_row, choose_col)\n",
        "            sol_tf[choose_row][choose_col]= 1\n",
        "    return sol_tf"
      ],
      "metadata": {
        "id": "o_dDSzZzDBvm"
      },
      "execution_count": null,
      "outputs": []
    },
    {
      "cell_type": "code",
      "source": [
        "# construction rule和建立次數限制\n",
        "def check_construction_r(sol_tf):\n",
        "    for i in range(infra_type):\n",
        "        con_time= con_time_l[i]\n",
        "        for j in range(len(sol_tf[i])-con_time):\n",
        "            if sol_tf[i][j]==1:\n",
        "                for k in range(1,con_time+1):\n",
        "                    if sol_tf[i][j+k]==1:\n",
        "                        sol_tf[i][j+k]=0\n",
        "\n",
        "        if sum(sol_tf[i])>con_fre_l[i]:\n",
        "            count= sum(sol_tf[i])-con_fre_l[i]\n",
        "            index= np.where(np.array(sol_tf[i])!=0)\n",
        "            random_values = np.random.choice(index[0], size=count, replace=False)\n",
        "            for v in random_values:\n",
        "                sol_tf[i][v]=0\n",
        "    return sol_tf"
      ],
      "metadata": {
        "id": "V0qiywsIDClv"
      },
      "execution_count": null,
      "outputs": []
    },
    {
      "cell_type": "code",
      "source": [
        "# construction rule和建立次數限制\n",
        "def check_construction_r1(sol1):\n",
        "    sol= copy.deepcopy(sol1)\n",
        "    for i in range(infra_type):\n",
        "        con_time= con_time_l[i]\n",
        "        for j in range(len(sol[i])-con_time):\n",
        "            if sol[i][j]!=0:\n",
        "                for k in range(1,con_time+1):\n",
        "                    if sol[i][j+k]!=0:\n",
        "                        sol[i][j+k]=0\n",
        "        index= np.where(np.array(sol[i])!=0)[0]\n",
        "        print(index)\n",
        "        if len(index)>con_fre_l[i]:\n",
        "            count= len(index)-con_fre_l[i]\n",
        "            print(count)\n",
        "            random_values = np.random.choice(index, size=count, replace=False)\n",
        "            for v in random_values:\n",
        "                sol[i][v]=0\n",
        "    # print(sol)\n",
        "    return sol"
      ],
      "metadata": {
        "id": "tef56spLDDYe"
      },
      "execution_count": null,
      "outputs": []
    },
    {
      "cell_type": "code",
      "source": [
        "# generate infrastructure size\n",
        "def infra_size(sol_tf):\n",
        "    sol=[[0 for x in range(years)] for x in range(infra_type)]\n",
        "    for i in range(len(sol_tf)):\n",
        "        for j  in range(len(sol_tf[i])):\n",
        "            if sol_tf[i][j]==1:\n",
        "                if i==0:\n",
        "                    sol[i][j]= random.randint(0, 3)\n",
        "                if i==1:\n",
        "                    sol[i][j]=random.randint(0, 3)\n",
        "                if i==2:\n",
        "                    sol[i][j]=round( np.random.uniform(10, 20),2)\n",
        "                if i==3:\n",
        "                    sol[i][j]=round( np.random.uniform(1, 2),2)\n",
        "                if i==4:\n",
        "                    sol[i][j]=round( np.random.uniform(5, 10),2)\n",
        "    #print(sol_tf)\n",
        "    #print(sol)\n",
        "    return sol"
      ],
      "metadata": {
        "id": "nzPdElqBDEPO"
      },
      "execution_count": null,
      "outputs": []
    },
    {
      "cell_type": "code",
      "source": [
        "def check_maximum_size(sol):\n",
        "    for i in range(infra_type):\n",
        "        for j in range(years):\n",
        "            if sum(sol[i][:j])>max_size_l[i]:\n",
        "                diff= max_size_l[i]-sum(sol[i][:j])\n",
        "                sol[i][j]= diff\n",
        "                for k in range(j, years):\n",
        "                    sol[i][j]=0\n",
        "    return sol"
      ],
      "metadata": {
        "id": "wCORqJlnDFG5"
      },
      "execution_count": null,
      "outputs": []
    },
    {
      "cell_type": "code",
      "source": [
        "def tran2_use_sol(sol):\n",
        "    usable_sol= [[0 for x in range(years)] for x in range(infra_type)]\n",
        "    usable_sol1= [[0 for x in range(years)] for x in range(infra_type)]\n",
        "    for i in range(infra_type):\n",
        "        con_time= con_time_l[i]\n",
        "        for j in range(years):\n",
        "            if sol[i][j]!=0 and j+con_time<= years-1 :\n",
        "                if i in continuous_var_idx_l:\n",
        "                    usable_sol[i][j+con_time]=sol[i][j]\n",
        "                elif i in discrete_var_idx_l:\n",
        "                    unique_sol= list(set(sol[i][:j]))\n",
        "                    unique_sol.sort()\n",
        "                    unique_sol= [x for x in unique_sol if x != 0]\n",
        "                    if len(unique_sol)==1:\n",
        "                        usable_sol[i][j+con_time]= unique_sol[0]\n",
        "                    elif len(unique_sol)==2:\n",
        "                        usable_sol[i][j+con_time]= 3\n",
        "\n",
        "    #print(usable_sol)\n",
        "    for i in range(infra_type):\n",
        "        for j in range(1,years):\n",
        "            usable_sol1[i][j]= round(sum(usable_sol[i][:j]),2)\n",
        "    #print(usable_sol1)\n",
        "    return usable_sol1"
      ],
      "metadata": {
        "id": "3gFJmd9xDF92"
      },
      "execution_count": null,
      "outputs": []
    },
    {
      "cell_type": "code",
      "source": [
        "reg1_coef_df= pd.read_csv('C:/Users/una12/Desktop/code/input/reg1_coef.csv')"
      ],
      "metadata": {
        "id": "qVDg3oJqDG5e"
      },
      "execution_count": null,
      "outputs": []
    },
    {
      "cell_type": "code",
      "source": [
        "reg1_coef_dict= dict()\n",
        "for name in reg1_coef_df.columns:\n",
        "    idx= re.split(r'[m_]', name)\n",
        "    row= idx[1]\n",
        "    col= idx[2]\n",
        "    key= row+\"_\"+col\n",
        "    reg1_coef_dict[key]=  reg1_coef_df[name]\n",
        "print(reg1_coef_dict)\n",
        ""
      ],
      "metadata": {
        "id": "s_tC5Ti-DHh5"
      },
      "execution_count": null,
      "outputs": []
    },
    {
      "cell_type": "code",
      "source": [
        "nreg_value_dict=dict()\n",
        "for cat in range(len(nreg_catalog)):\n",
        "    spli= re.split(r'[._]', nreg_catalog[cat])\n",
        "    row= spli[0]\n",
        "    col= spli[1]\n",
        "    key= str(row)+'_'+str(col)\n",
        "    nreg_value_dict[key]= nreg_value[cat]\n",
        "print(nreg_value_dict)"
      ],
      "metadata": {
        "id": "ogSaM9oIDIlL"
      },
      "execution_count": null,
      "outputs": []
    },
    {
      "cell_type": "code",
      "source": [
        "r_y, r_interval2, r_interval3,r_interval4, r2, r3, r4=rain_interval(years)\n",
        "sol_dict1, usable_dict1= exe_solution_dict(pop1, pop2)\n",
        "usable_sol= usable_dict1['1_1']\n"
      ],
      "metadata": {
        "id": "_NG__bajDJkY"
      },
      "execution_count": null,
      "outputs": []
    },
    {
      "cell_type": "code",
      "source": [
        "def calculate_cost1(usable_sol,r_interval2, r_interval3,r_interval4, r2, r3, r4):\n",
        "    discount_l= [round( np.random.uniform(0.01, 0.02),4) for x in range(years)]\n",
        "    cost_l=[0 for x in range(years)]\n",
        "    cost_m= np.full((grid_row_n, grid_col_n), 0)\n",
        "    for j in range(years):\n",
        "        year_usable_sol=[usable_sol[0][j], usable_sol[1][j], usable_sol[2][j], usable_sol[3][j], usable_sol[4][j]]\n",
        "        depth_m= np.full((grid_row_n, grid_col_n), 0)\n",
        "\n",
        "        #計算每個網格的淹水深度\n",
        "        for key in nreg_value_dict.keys():\n",
        "            idx= key.split('_')\n",
        "            row= int(idx[0])\n",
        "            col= int(idx[1])\n",
        "            depth_m[row][col]= nreg_value_dict[key]\n",
        "        #print('stage1',np.where(depth_m!=0))\n",
        "\n",
        "        for h in reg1_coef_dict.keys():\n",
        "            h_idx= h.split('_')\n",
        "            #print(h,h_idx)\n",
        "            row= int(h_idx[0])\n",
        "            col= int(h_idx[1])\n",
        "            coef= reg1_coef_dict[h]\n",
        "\n",
        "            coef1=[0 for x in range(infra_type)]\n",
        "            for idx in range(infra_type):\n",
        "                if idx==0:\n",
        "                    for i in range(4): #第一個防洪建設有四種選項\n",
        "                        if year_usable_sol[idx]==i:\n",
        "                            coef1[idx]= coef[i]\n",
        "                            break\n",
        "                    continue\n",
        "                if idx==1:\n",
        "                    for i in range(4): #第二個防洪建設有四種選項\n",
        "                        if year_usable_sol[idx]==i:\n",
        "                            coef1[idx]= coef[i+4]\n",
        "                            break\n",
        "                    continue\n",
        "                if idx==2:\n",
        "                    coef1[idx]=coef[8]\n",
        "                    continue\n",
        "                if idx==3:\n",
        "                    coef1[idx]=coef[9]\n",
        "                    continue\n",
        "                if idx==4:\n",
        "                    coef1[idx]=coef[10]\n",
        "                    continue\n",
        "            coef1= np.array(coef1)\n",
        "            #print(coef1)\n",
        "            depth= round(np.sum(coef1*np.array(year_usable_sol)),3)\n",
        "            if depth<0:\n",
        "                depth=0\n",
        "            depth_m[row][col]= depth\n",
        "\n",
        "\n",
        "        for p in range(r_interval2[j]):\n",
        "            depth_m2= depth_m*(r2[j][p]/576.48)\n",
        "            cost_m=cost_m+ (depth_m2*ori_cost_m)\n",
        "        for p in range(r_interval3[j]):\n",
        "            depth_m3= depth_m*(r3[j][p]/576.48)\n",
        "            cost_m=cost_m+ (depth_m3*ori_cost_m)\n",
        "\n",
        "        for p in range(r_interval4[j]):\n",
        "            depth_m4= depth_m*(r4[j][p]/576.48)\n",
        "            cost_m=cost_m+ (depth_m4*ori_cost_m)\n",
        "\n",
        "        cost_l= np.sum(cost_m)\n",
        "    sum_cost=0\n",
        "    for j in range(years):\n",
        "        sum_cost+= int(cost_l*(1+discount_l[j])**(int(j)))\n",
        "    return sum_cost"
      ],
      "metadata": {
        "id": "7iyG3qiRDKrm"
      },
      "execution_count": null,
      "outputs": []
    },
    {
      "cell_type": "code",
      "source": [
        "# def calculate_cost(usable_sol,r_interval2, r_interval3,r_interval4, r2, r3, r4):\n",
        "#     discount_l= [round( np.random.uniform(0.01, 0.02),4) for x in range(years)]\n",
        "#     cost_l=[0 for x in range(years)]\n",
        "#     cost_m= np.full((grid_row_n, grid_col_n), 0)\n",
        "#     for j in range(years):\n",
        "#         year_usable_sol=[usable_sol[0][j], usable_sol[1][j], usable_sol[2][j], usable_sol[3][j], usable_sol[4][j]]\n",
        "#         depth_m= np.full((grid_row_n, grid_col_n), 0)\n",
        "\n",
        "#         #計算每個網格的淹水深度\n",
        "#         for i in range(len(nreg_catalog)):\n",
        "#             k=re.split(r'[._]', nreg_catalog[i])\n",
        "#             row= int(k[0])\n",
        "#             col= int(k[1])\n",
        "#             depth_m[row][col]= nreg_value[i]\n",
        "#         #print('stage1',np.where(depth_m!=0))\n",
        "\n",
        "#         for h in range(len(reg_catalog)):\n",
        "#             k=re.split(r'[._]', reg_catalog[h])\n",
        "#             row= int(k[0])\n",
        "#             col= int(k[1])\n",
        "#             model_name= 'm'+k[0]+'_'+k[1]\n",
        "\n",
        "\n",
        "#             #coef= globals()[model_name].named_steps['model'].coef_\n",
        "#             coef= reg1_coef[model_name]\n",
        "#             coef1=[0 for x in range(infra_type)]\n",
        "#             for idx in range(len(year_usable_sol)):\n",
        "#                 if idx==0:\n",
        "#                     if year_usable_sol[idx]==0:\n",
        "#                         coef1[idx]= coef[0]\n",
        "#                     elif year_usable_sol[idx]==1:\n",
        "#                         coef1[idx]= coef[1]\n",
        "#                     elif year_usable_sol[idx]==2:\n",
        "#                         coef1[idx]= coef[2]\n",
        "#                     elif year_usable_sol[idx]==3:\n",
        "#                         coef1[idx]= coef[3]\n",
        "#                 if idx==1:\n",
        "#                     if year_usable_sol[idx]==0:\n",
        "#                         coef1[idx]= coef[4]\n",
        "#                     elif year_usable_sol[idx]==1:\n",
        "#                         coef1[idx]= coef[5]\n",
        "#                     elif year_usable_sol[idx]==2:\n",
        "#                         coef1[idx]= coef[6]\n",
        "#                     elif year_usable_sol[idx]==3:\n",
        "#                         coef1[idx]= coef[7]\n",
        "#                 if idx==2:\n",
        "#                     coef1[idx]=coef[8]\n",
        "#                 if idx==3:\n",
        "#                     coef1[idx]=coef[9]\n",
        "#                 if idx==4:\n",
        "#                     coef1[idx]=coef[10]\n",
        "#             coef1= np.array(coef1)\n",
        "#             #print(coef1)\n",
        "#             depth= round(np.sum(coef1*np.array(year_usable_sol)),3)\n",
        "#             if depth<0:\n",
        "#                 depth=0\n",
        "#             depth_m[row][col]= depth\n",
        "\n",
        "\n",
        "#         for p in range(r_interval2[j]):\n",
        "#             depth_m2= depth_m*(r2[j][p]/576.48)\n",
        "#             cost_m=cost_m+ (depth_m2*ori_cost_m)\n",
        "#         for p in range(r_interval3[j]):\n",
        "#             depth_m3= depth_m*(r3[j][p]/576.48)\n",
        "#             cost_m=cost_m+ (depth_m3*ori_cost_m)\n",
        "\n",
        "#         for p in range(r_interval4[j]):\n",
        "#             depth_m4= depth_m*(r4[j][p]/576.48)\n",
        "#             cost_m=cost_m+ (depth_m4*ori_cost_m)\n",
        "\n",
        "#         cost_l= np.sum(cost_m)\n",
        "#     sum_cost=0\n",
        "#     for j in range(years):\n",
        "#         sum_cost+= int(cost_l*(1+discount_l[j])**(int(j)))\n",
        "#     return sum_cost\n",
        "\n",
        ""
      ],
      "metadata": {
        "id": "JU7KTRERDLsB"
      },
      "execution_count": null,
      "outputs": []
    },
    {
      "cell_type": "code",
      "source": [
        "pop1= 5\n",
        "pop2= 4\n",
        "exe_p= 3"
      ],
      "metadata": {
        "id": "6OKQ6H8RDMjn"
      },
      "execution_count": null,
      "outputs": []
    },
    {
      "cell_type": "code",
      "source": [
        "def exe_solution_dict(pop1, pop2):\n",
        "    usa_sol_dict= dict()\n",
        "    sol_dict= dict()\n",
        "    for i in range(pop1):\n",
        "        sol_tf= check_construction_r(initialize_scheduling())\n",
        "        for j in range(pop2):\n",
        "            sol_plan= check_maximum_size(infra_size(sol_tf))\n",
        "            usa_sol_plan= tran2_use_sol(sol_plan)\n",
        "            key= str(i)+'_'+str(j)\n",
        "            usa_sol_dict[key]=usa_sol_plan\n",
        "            sol_dict[key]=sol_plan\n",
        "    return sol_dict, usa_sol_dict\n",
        ""
      ],
      "metadata": {
        "id": "Pvp-WDAXDNTK"
      },
      "execution_count": null,
      "outputs": []
    },
    {
      "cell_type": "code",
      "source": [
        "def exe_cost_df(sol_dict, usa_sol_dict):\n",
        "    cost_dict=dict()\n",
        "    cost_df=pd.DataFrame(np.zeros((pop1, pop2)))######################################\n",
        "    average_cost=0\n",
        "    for j in sol_dict.keys():\n",
        "        usable_sol1= usa_sol_dict[j]\n",
        "        for i in range(exe_p):\n",
        "            y_r,r_interval2, r_interval3,r_interval4, r2, r3, r4= rain_interval(years)\n",
        "            cost= calculate_cost1(usable_sol1,r_interval2, r_interval3,r_interval4, r2, r3, r4)\n",
        "            average_cost+=cost\n",
        "        average_cost=average_cost/exe_p\n",
        "        row= int(j.split('_')[0])\n",
        "        col= int(j.split('_')[1])\n",
        "        cost_df.iloc[row, col]= round(average_cost)\n",
        "    return cost_df"
      ],
      "metadata": {
        "id": "B7Lqh38XDOFM"
      },
      "execution_count": null,
      "outputs": []
    },
    {
      "cell_type": "code",
      "source": [
        "# sol_dict, usa_sol_dict= exe_solution_dict(pop1, pop2)\n",
        "# y_r,r_interval2, r_interval3,r_interval4, r2, r3, r4= rain_interval(years)\n",
        "# cost_dict= exe_cost_dict(sol_dict, usa_sol_dict)"
      ],
      "metadata": {
        "id": "Z9oxysIpDPA-"
      },
      "execution_count": null,
      "outputs": []
    },
    {
      "cell_type": "code",
      "source": [
        "# cost_dict 轉成dataframe\n",
        "\n",
        "cost_df=pd.DataFrame()\n",
        "for i in range(pop2):\n",
        "    col_list=[]\n",
        "    for j in range(pop1):\n",
        "        key= str(j)+'_'+str(i)\n",
        "        col_list.append(cost_dict[key])\n",
        "    cost_df[i]= col_list"
      ],
      "metadata": {
        "id": "lTVoCKRHDP5O"
      },
      "execution_count": null,
      "outputs": []
    },
    {
      "cell_type": "code",
      "source": [
        "#find best value in population1\n",
        "def column_best(cost_df):\n",
        "    column_best_idx_l=[]\n",
        "    for i in range(pop1):\n",
        "        idx=np.where(cost_df.iloc[i]==cost_df.iloc[i].min())[0].tolist()\n",
        "        column_best_idx_l.extend(idx)\n",
        "    return column_best_idx_l"
      ],
      "metadata": {
        "id": "iKCvmGteDQlC"
      },
      "execution_count": null,
      "outputs": []
    },
    {
      "cell_type": "code",
      "source": [
        "#find best value in population2\n",
        "def row_best(cost_df):\n",
        "    row_best_idx_l=[]\n",
        "    for i in range(pop2):\n",
        "        idx=np.where(cost_df[i]==cost_df[i].min())[0].tolist()\n",
        "        row_best_idx_l.extend(idx)\n",
        "    return row_best_idx_l"
      ],
      "metadata": {
        "id": "S8VBuDCtDRTX"
      },
      "execution_count": null,
      "outputs": []
    },
    {
      "cell_type": "code",
      "source": [
        "# selection probability\n",
        "#pop1=5, pop2=4\n",
        "def sel_prob_col(cost_df):\n",
        "\n",
        "    pop1_len= np.shape(cost_df)[0]\n",
        "    pop2_len= np.shape(cost_df)[1]\n",
        "    sel_prob_df=pd.DataFrame(np.full((pop1_len, pop2_len), 0))\n",
        "    for i in range(pop1_len):\n",
        "        prob_l=[]\n",
        "        sort_idx= np.argsort(cost_df.iloc[i])\n",
        "        for j in range(pop2_len):\n",
        "            prob= 0.5*(1-m.cos(sort_idx[j]*m.pi/pop2))\n",
        "            prob_l.append(prob)\n",
        "        sel_prob_df.iloc[i]= prob_l\n",
        "\n",
        "    return sel_prob_df"
      ],
      "metadata": {
        "id": "Kn2OR6NMDSJ8"
      },
      "execution_count": null,
      "outputs": []
    },
    {
      "cell_type": "code",
      "source": [
        "#pop1=5, pop2=4\n",
        "def sel_prob_row(cost_df):\n",
        "\n",
        "    pop1_len= np.shape(cost_df)[0]\n",
        "    pop2_len= np.shape(cost_df)[1]\n",
        "    sel_prob_df=pd.DataFrame(np.full((pop1_len, pop2_len), 0))\n",
        "    for i in range(pop2_len):\n",
        "        prob_l=[]\n",
        "        sort_idx= np.argsort(cost_df[i])\n",
        "        for j in range(pop1_len):\n",
        "            prob= 0.5*(1-m.cos(sort_idx[j]*m.pi/pop1))\n",
        "            prob_l.append(prob)\n",
        "        sel_prob_df[i]= prob_l\n",
        "\n",
        "    return sel_prob_df"
      ],
      "metadata": {
        "id": "eUWiWVN1DS6F"
      },
      "execution_count": null,
      "outputs": []
    },
    {
      "cell_type": "code",
      "source": [
        "def check_construction_r(sol_tf):\n",
        "    for i in range(infra_type):\n",
        "        con_time= con_time_l[i]\n",
        "        for j in range(len(sol_tf[i])-con_time):\n",
        "            if sol_tf[i][j]==1:\n",
        "                for k in range(1,con_time+1):\n",
        "                    if sol_tf[i][j+k]==1:\n",
        "                        sol_tf[i][j+k]=0\n",
        "\n",
        "        if sum(sol_tf[i])>con_fre_l[i]:\n",
        "            count= sum(sol_tf[i])-con_fre_l[i]\n",
        "            index= np.where(np.array(sol_tf[i])!=0)\n",
        "            random_values = np.random.choice(index[0], size=count, replace=False)\n",
        "            for v in random_values:\n",
        "                sol_tf[i][v]==0\n",
        "    return sol_tf"
      ],
      "metadata": {
        "id": "rtXSuUHrDTu2"
      },
      "execution_count": null,
      "outputs": []
    },
    {
      "cell_type": "code",
      "source": [
        "# 確認每年防洪建設花費是否超過預算\n",
        "def check_budget(row, col, sol_dict, cost_df):\n",
        "    row= 0\n",
        "    col= 0\n",
        "    dict_idx= str(row)+\"_\"+str(col)\n",
        "    sol1= list(sol_dict[dict_idx])\n",
        "    cost1= cost_df.copy()\n",
        "\n",
        "    exceed_cost_l=[]\n",
        "\n",
        "    for i in range(years):\n",
        "        infra_in_year_l= [sol1[x][i] for x in range(infra_type)]\n",
        "        size_l= np.array(infra_in_year_l)\n",
        "        total_construction_cost= np.sum(np.round(size_l * con_cost))\n",
        "        total_maintain_cost=0\n",
        "        for j in range(i):\n",
        "            infra_in_yearj_l= [sol1[x][j] for x in range(infra_type)]\n",
        "            sizej_l= np.array(infra_in_yearj_l)\n",
        "            total_maintain_cost += np.sum(np.round(sizej_l * main_r_l))\n",
        "        year_cost= total_construction_cost+ total_maintain_cost\n",
        "        if year_cost>budget_l[i]:\n",
        "            #print('yes',i)\n",
        "            exceed_cost_l.append( year_cost-budget_l[i])\n",
        "    sum_exceed_cost= sum(exceed_cost_l)\n",
        "    #print(exceed_cost_l)\n",
        "    cost1= cost1.iloc[row, col]+ sum_exceed_cost*20\n",
        "    return cost1"
      ],
      "metadata": {
        "id": "Pu9qxhiQDUly"
      },
      "execution_count": null,
      "outputs": []
    },
    {
      "cell_type": "code",
      "source": [
        "sol_col1= sol_dict['0_0']\n",
        "sol_col2= sol_dict['1_0'] #比較好的解\n",
        "def cross_over(sol_col1, sol_col2):\n",
        "    interval_idx = random.sample(range(0, years), 2)\n",
        "    interval_idx.sort()\n",
        "    # print(interval_idx)\n",
        "    # print(sol_dict['0_0'])\n",
        "    # print(sol_dict['1_0'])\n",
        "    for i in range(infra_type):\n",
        "        sol_col1[i][interval_idx[0]:interval_idx[1]]= sol_col2[i][interval_idx[0]:interval_idx[1]]\n",
        "    # print(sol_col1)\n",
        "\n",
        "\n",
        "    #確認是否為可行解，不可行解則修改\n",
        "    for i in range(infra_type):\n",
        "        con_time= con_time_l[i]\n",
        "        count=0\n",
        "        target_l=[]\n",
        "        sprinkle=False\n",
        "        for j in range(len(sol_col1[i])-con_time):\n",
        "            if sol_col1[i][j]!=0:\n",
        "                target= sol_col1[i][j]\n",
        "                for k in range(1,con_time+1):\n",
        "                    if sol_col1[i][j+k]!=0:\n",
        "                        count+=1\n",
        "                        target_l.append(target)\n",
        "        for k in range(count):\n",
        "            sprinkle=True\n",
        "            while sprinkle:\n",
        "                random_value = random.randint(0, years-1)\n",
        "                sprinkle=False\n",
        "                if sol_col1[i][random_value]==0:\n",
        "                    lower_b= random_value-con_time\n",
        "                    if lower_b<0:\n",
        "                        lower_b=0\n",
        "                    upper_b= random_value+con_time\n",
        "                    if upper_b>0:\n",
        "                        upper_b=years-1\n",
        "                    if sum(sol_col1[i][lower_b:upper_b])==0:\n",
        "                        sol_col1[i][random_value]= target_l[k]\n",
        "    return sol_col1\n"
      ],
      "metadata": {
        "id": "ANImo1QHDVWb"
      },
      "execution_count": null,
      "outputs": []
    },
    {
      "cell_type": "code",
      "source": [
        "sel_prob_m= sel_prob_col(cost_df)\n",
        "sel_prob_m"
      ],
      "metadata": {
        "id": "Qfs6TgFPDWq8"
      },
      "execution_count": null,
      "outputs": []
    },
    {
      "cell_type": "code",
      "source": [
        "# # Update the arrangement of solutions\n",
        "# sel_prob_m= sel_prob_col(cost_df)\n",
        "# col_best_idx_l= column_best(cost_df)\n",
        "# new_cost_df= cost_df.copy()\n",
        "# new_sol_dict= sol_dict.copy()\n",
        "# for i in range(pop1):\n",
        "#     for j in range(pop2):\n",
        "#         rand= random.uniform(0,1)\n",
        "#         ori_sol_idx= str(i)+'_'+str(j)\n",
        "#         ori_sol= sol_dict[ori_sol_idx]\n",
        "#         ori_cost= cost_df.iloc[i,j]\n",
        "#         if rand>sel_prob_m[j].iloc[i]:\n",
        "#             print('teacher phase')\n",
        "#             #teacher phase\n",
        "#             teacher_sol_idx= str(i)+'_'+str(col_best_idx_l[i])\n",
        "#             teacher_sol= sol_dict[teacher_sol_idx]\n",
        "#             gen_sol= cross_over(ori_sol, teacher_sol)\n",
        "#             cost=0\n",
        "#             for k in range(exe_p):\n",
        "#                 y_r,r_interval2, r_interval3,r_interval4, r2, r3, r4= rain_interval(years)\n",
        "#                 cost+= calculate_cost(gen_sol,r_interval2, r_interval3,r_interval4, r2, r3, r4)\n",
        "#             cost= cost/exe_p\n",
        "#         elif rand<=sel_prob_m[j].iloc[i]:\n",
        "#             #student phase\n",
        "#             idx_l= np.where(cost_df.iloc[i]< cost_df.iloc[i,j])\n",
        "#             print('student phase')\n",
        "#             print('idx_l',idx_l[0])\n",
        "#             if np.size(idx_l) != 0:\n",
        "#                 idx= np.random.choice(idx_l[0])\n",
        "#                 ano_sol_idx= str(i)+'_'+str(idx)\n",
        "#                 ano_sol= sol_dict[ano_sol_idx]\n",
        "#                 gen_sol= cross_over(ori_sol, ano_sol)\n",
        "#                 cost=0\n",
        "#                 for k in range(exe_p):\n",
        "#                     y_r,r_interval2, r_interval3,r_interval4, r2, r3, r4= rain_interval(years)\n",
        "#                     cost+= calculate_cost(gen_sol,r_interval2, r_interval3,r_interval4, r2, r3, r4)\n",
        "#                 cost= cost/exe_p\n",
        "#             else:\n",
        "#                 cost= ori_cost\n",
        "#         if cost<ori_cost:\n",
        "#             print('yes', i,j)\n",
        "#             new_cost_df.iloc[i,j]= cost\n",
        "#             new_sol_dict[ori_sol_idx]= gen_sol\n",
        ""
      ],
      "metadata": {
        "id": "BblRHqnBDXzl"
      },
      "execution_count": null,
      "outputs": []
    },
    {
      "cell_type": "code",
      "source": [
        "# Update the arrangement of solutions\n",
        "#pop1= 5 pop2= 4\n",
        "def update_arrangement(cost_df, sol_dict):\n",
        "    sel_prob_m= sel_prob_col(cost_df)\n",
        "    col_best_idx_l= column_best(cost_df)\n",
        "    new_cost_df= cost_df.copy()\n",
        "    new_sol_dict= sol_dict.copy()\n",
        "    for i in range(pop1):\n",
        "        for j in range(pop2):\n",
        "            rand= random.uniform(0,1)\n",
        "            ori_sol_idx= str(i)+'_'+str(j)\n",
        "            ori_sol= sol_dict[ori_sol_idx]\n",
        "            ori_cost= cost_df.iloc[i,j]\n",
        "            if rand>sel_prob_m[j].iloc[i]:\n",
        "                #print('teacher phase')\n",
        "                #teacher phase\n",
        "                teacher_sol_idx= str(i)+'_'+str(col_best_idx_l[i])\n",
        "                teacher_sol= sol_dict[teacher_sol_idx]\n",
        "                gen_sol= cross_over(ori_sol, teacher_sol)\n",
        "                # construction rule和建立次數限制\n",
        "                gen_sol=check_construction_r1(gen_sol)\n",
        "                gen_sol= check_maximum_size(gen_sol)\n",
        "                cost=0\n",
        "                for k in range(exe_p):\n",
        "                    y_r,r_interval2, r_interval3,r_interval4, r2, r3, r4= rain_interval(years)\n",
        "                    cost+= calculate_cost1(gen_sol,r_interval2, r_interval3,r_interval4, r2, r3, r4)\n",
        "                cost= cost/exe_p\n",
        "            elif rand<=sel_prob_m[j].iloc[i]:\n",
        "                #student phase\n",
        "                idx_l= np.where(cost_df.iloc[i]< cost_df.iloc[i,j])\n",
        "                #print('student phase')\n",
        "                #print('idx_l',idx_l[0])\n",
        "                if np.size(idx_l) != 0:\n",
        "                    idx= np.random.choice(idx_l[0])\n",
        "                    ano_sol_idx= str(i)+'_'+str(idx)\n",
        "                    ano_sol= sol_dict[ano_sol_idx]\n",
        "                    gen_sol= cross_over(ori_sol, ano_sol)\n",
        "                    gen_sol=check_construction_r1(gen_sol)\n",
        "                    gen_sol= check_maximum_size(gen_sol)\n",
        "                    cost=0\n",
        "                    for k in range(exe_p):\n",
        "                        y_r,r_interval2, r_interval3,r_interval4, r2, r3, r4= rain_interval(years)\n",
        "                        cost+= calculate_cost1(gen_sol,r_interval2, r_interval3,r_interval4, r2, r3, r4)\n",
        "                    cost= cost/exe_p\n",
        "                else:\n",
        "                    cost= ori_cost\n",
        "            cost= check_budget(i, j, sol_dict, cost_df)\n",
        "            if cost<ori_cost:\n",
        "                print('yes arrangement', i,j)\n",
        "                new_cost_df.iloc[i,j]= cost\n",
        "                new_sol_dict[ori_sol_idx]= gen_sol\n",
        "    iter_best_idx= new_cost_df.stack().idxmin()\n",
        "    iter_best_cost= new_cost_df.iloc[iter_best_idx[0],iter_best_idx[1]]\n",
        "    iter_best_sol= new_sol_dict[str(iter_best_idx[0])+'_'+str(iter_best_idx[1])]\n",
        "    return new_cost_df, new_sol_dict, iter_best_cost, iter_best_sol\n",
        ""
      ],
      "metadata": {
        "id": "xT3UBQ0sDY5a"
      },
      "execution_count": null,
      "outputs": []
    },
    {
      "cell_type": "code",
      "source": [
        "# generate new solution (update size)\n",
        "# ori_sol1= list(sol_dict['0_0'])\n",
        "# ori_sol2= list(sol_dict['0_1'] )\n",
        "# ori_cost1= cost_df.iloc[0,0]\n",
        "# ori_cost2= cost_df.iloc[0,1]\n",
        "def update_size_formulation(ori_sol1, ori_sol2, ori_cost1, ori_cost2):\n",
        "    #print(ori_sol1)\n",
        "    gen_sol= copy.deepcopy(ori_sol1[:])\n",
        "    nzero_idx= np.where(np.array(ori_sol1)!=0)\n",
        "    #print('nonzero_idx', nzero_idx)\n",
        "    change_num= random.randint(round(np.shape(nzero_idx)[1]/3),round(np.shape(nzero_idx)[1]/2))\n",
        "    #print(round(np.shape(nzero_idx)[1]/4),round(np.shape(nzero_idx)[1]/3),change_num)\n",
        "    change_idx_l= random.sample(range(0, np.shape(nzero_idx)[1]),change_num)\n",
        "    #print(change_idx_l)\n",
        "    for i in change_idx_l:\n",
        "        type= nzero_idx[0][i]\n",
        "        year= nzero_idx[1][i]\n",
        "        #print('type',type,year)\n",
        "        element1= ori_sol1[type][year]\n",
        "        element2= ori_sol2[type][year]\n",
        "        if ori_cost2<= ori_cost1:\n",
        "            new_element= round(element1+ random.uniform(0,1)*(element2-element1),2)\n",
        "        elif ori_cost2> ori_cost1:\n",
        "            new_element= round(element1+ random.uniform(0,1)*(element1-element2),2)\n",
        "        if type in discrete_var_idx_l:\n",
        "            new_element=int(round(new_element))\n",
        "        if new_element>max_size_l[type]:\n",
        "            new_element= max_size_l[type]\n",
        "        if new_element<0:\n",
        "            new_element=0\n",
        "        gen_sol[type][year]= new_element\n",
        "    # print(ori_sol1)\n",
        "    # print(ori_sol2)\n",
        "    # print(gen_sol)\n",
        "    return gen_sol\n",
        ""
      ],
      "metadata": {
        "id": "F3fegv1fDZzx"
      },
      "execution_count": null,
      "outputs": []
    },
    {
      "cell_type": "code",
      "source": [
        "# # Update the size of solutions\n",
        "# # pop1=5, pop2=4\n",
        "# sel_prob_m1= sel_prob_row(cost_df)\n",
        "# row_best_idx_l= row_best(cost_df)\n",
        "# new_cost_df1= cost_df.copy()\n",
        "# new_sol_dict1= sol_dict.copy()\n",
        "\n",
        "# for j in range(pop2):\n",
        "#     for i in range(pop1):\n",
        "#         rand= random.uniform(0,1)\n",
        "#         ori_sol_idx= str(i)+'_'+str(j)\n",
        "#         ori_sol= sol_dict[ori_sol_idx]\n",
        "#         ori_cost= cost_df.iloc[i,j]\n",
        "#         row_best_idx_l= row_best(cost_df)\n",
        "#         if rand>sel_prob_m1[j].iloc[i]:\n",
        "#             print('teacher phase')\n",
        "#             #teacher phase\n",
        "#             teacher_sol_idx= str(row_best_idx_l[j])+'_'+str(j)\n",
        "#             teacher_sol= sol_dict[teacher_sol_idx]\n",
        "#             teacher_cost= cost_df.iloc[row_best_idx_l[j],j]\n",
        "#             ###\n",
        "#             gen_sol= update_size(ori_sol, teacher_sol, ori_cost, teacher_cost)\n",
        "#             cost=0\n",
        "#             for k in range(exe_p):\n",
        "#                 y_r,r_interval2, r_interval3,r_interval4, r2, r3, r4= rain_interval(years)\n",
        "#                 cost+= calculate_cost(gen_sol,r_interval2, r_interval3,r_interval4, r2, r3, r4)\n",
        "#             cost= cost/exe_p\n",
        "#         elif rand<=sel_prob_m1[j].iloc[i]:\n",
        "#             #student phase\n",
        "#             while True:\n",
        "#                 num= random.randint(0,pop1-1)\n",
        "#                 if num!=i:\n",
        "#                     break\n",
        "#             ano_sol_idx= str(num)+'_'+str(j)\n",
        "#             ano_sol= sol_dict[ano_sol_idx]\n",
        "#             ano_sol_cost= cost_df.iloc[num, j]\n",
        "#             gen_sol= update_size(ori_sol, ano_sol, ori_cost, ano_sol_cost)\n",
        "#             cost=0\n",
        "#             for k in range(exe_p):\n",
        "#                 y_r,r_interval2, r_interval3,r_interval4, r2, r3, r4= rain_interval(years)\n",
        "#                 cost+= calculate_cost(gen_sol,r_interval2, r_interval3,r_interval4, r2, r3, r4)\n",
        "#             cost= cost/exe_p\n",
        "\n",
        "#         if cost<ori_cost:\n",
        "#             print('yes', i,j)\n",
        "#             new_cost_df1.iloc[i,j]= cost\n",
        "#             new_sol_dict1[ori_sol_idx]= gen_sol\n",
        ""
      ],
      "metadata": {
        "id": "cm1eXyuADatb"
      },
      "execution_count": null,
      "outputs": []
    },
    {
      "cell_type": "code",
      "source": [
        "# Update the size of solutions\n",
        "# pop1=5, pop2=4\n",
        "def update_size(cost_df, sol_dict):\n",
        "    sel_prob_m1= sel_prob_row(cost_df)\n",
        "    row_best_idx_l= row_best(cost_df)\n",
        "    new_cost_df1= cost_df.copy()\n",
        "    new_sol_dict1= sol_dict.copy()\n",
        "\n",
        "    for j in range(pop2):\n",
        "        for i in range(pop1):\n",
        "            rand= random.uniform(0,1)\n",
        "            ori_sol_idx= str(i)+'_'+str(j)\n",
        "            ori_sol= sol_dict[ori_sol_idx]\n",
        "            ori_cost= cost_df.iloc[i,j]\n",
        "            row_best_idx_l= row_best(cost_df)\n",
        "            if rand>sel_prob_m1[j].iloc[i]:\n",
        "                print('teacher phase')\n",
        "                #teacher phase\n",
        "                teacher_sol_idx= str(row_best_idx_l[j])+'_'+str(j)\n",
        "                teacher_sol= sol_dict[teacher_sol_idx]\n",
        "                teacher_cost= cost_df.iloc[row_best_idx_l[j],j]\n",
        "                ###\n",
        "                gen_sol= update_size_formulation(ori_sol, teacher_sol, ori_cost, teacher_cost)\n",
        "                gen_sol=check_construction_r1(gen_sol)\n",
        "                gen_sol= check_maximum_size(gen_sol)\n",
        "                cost=0\n",
        "                for k in range(exe_p):\n",
        "                    y_r,r_interval2, r_interval3,r_interval4, r2, r3, r4= rain_interval(years)\n",
        "                    cost+= calculate_cost1(gen_sol,r_interval2, r_interval3,r_interval4, r2, r3, r4)\n",
        "                cost= cost/exe_p\n",
        "            elif rand<=sel_prob_m1[j].iloc[i]:\n",
        "                #student phase\n",
        "                while True:\n",
        "                    num= random.randint(0,pop1-1)\n",
        "                    if num!=i:\n",
        "                        break\n",
        "                ano_sol_idx= str(num)+'_'+str(j)\n",
        "                ano_sol= sol_dict[ano_sol_idx]\n",
        "                ano_sol_cost= cost_df.iloc[num, j]\n",
        "                gen_sol= update_size_formulation(ori_sol, ano_sol, ori_cost, ano_sol_cost)\n",
        "                gen_sol=check_construction_r1(gen_sol)\n",
        "                gen_sol= check_maximum_size(gen_sol)\n",
        "                cost=0\n",
        "                for k in range(exe_p):\n",
        "                    y_r,r_interval2, r_interval3,r_interval4, r2, r3, r4= rain_interval(years)\n",
        "                    cost+= calculate_cost1(gen_sol,r_interval2, r_interval3,r_interval4, r2, r3, r4)\n",
        "                cost= cost/exe_p\n",
        "            cost= check_budget(i, j, sol_dict, cost_df)\n",
        "            if cost<ori_cost:\n",
        "                print('yes size', i,j)\n",
        "                new_cost_df1.iloc[i,j]= cost\n",
        "                new_sol_dict1[ori_sol_idx]= gen_sol\n",
        "    iter_best_idx= new_cost_df1.stack().idxmin()\n",
        "    iter_best_cost= new_cost_df1.iloc[iter_best_idx[0],iter_best_idx[1]]\n",
        "    iter_best_sol= new_sol_dict1[str(iter_best_idx[0])+'_'+str(iter_best_idx[1])]\n",
        "    return new_cost_df1, new_sol_dict1, iter_best_cost, iter_best_sol\n",
        ""
      ],
      "metadata": {
        "id": "EL6y0dqhDbsf"
      },
      "execution_count": null,
      "outputs": []
    },
    {
      "cell_type": "code",
      "source": [
        "#budget\n",
        "budget_l=[10000000 for i in range(years)]\n",
        "\n",
        "# infrastructure construction cost\n",
        "con_cost0= 5000000\n",
        "con_cost1= 4000000\n",
        "con_cost2= 300000\n",
        "con_cost3= 3000000\n",
        "con_cost4= 200000\n",
        "con_cost= [con_cost0, con_cost1, con_cost2, con_cost3, con_cost4]\n",
        "\n",
        "# infrastructure maintenance cost rate\n",
        "main_r0= 0.2\n",
        "main_r1= 0.2\n",
        "main_r2= 0.2\n",
        "main_r3= 0.2\n",
        "main_r4= 0.2\n",
        "main_r_l=[main_r0, main_r1,main_r2,main_r3,main_r4]"
      ],
      "metadata": {
        "id": "i_fy5t0sDcsA"
      },
      "execution_count": null,
      "outputs": []
    },
    {
      "cell_type": "code",
      "source": [
        "pop1=4\n",
        "pop2=5\n",
        "exe_p=3\n",
        "\n",
        "sol_dict1, usa_sol_dict1= exe_solution_dict(pop1, pop2)\n",
        "cost_df1= exe_cost_df(sol_dict1, usa_sol_dict1)"
      ],
      "metadata": {
        "id": "Thc1w-XHDdf0"
      },
      "execution_count": null,
      "outputs": []
    },
    {
      "cell_type": "code",
      "source": [
        "pop1=2\n",
        "pop2=2\n",
        "exe_p=1\n",
        "measurements=16\n",
        "sol_dict1, usa_sol_dict1= exe_solution_dict(pop1, pop2)\n",
        "cost_df1= exe_cost_df(sol_dict1, usa_sol_dict1)\n",
        "msr= pop1*pop2*exe_p\n",
        "iter_best_cost_l=[]\n",
        "if msr<=measurements:\n",
        "    rand= random.uniform(0,1)\n",
        "    if rand<0.5:\n",
        "       #update  arrangements\n",
        "        new_cost_df, new_sol_dict, iter_best_cost, iter_best_sol= update_arrangement(cost_df1, sol_dict1)\n",
        "    elif rand>=0.5:\n",
        "        # update size\n",
        "        new_cost_df, new_sol_dict, iter_best_cost, iter_best_sol= update_size(cost_df1, sol_dict1)\n",
        "    cost_df1= new_cost_df\n",
        "    sol_dict1= new_sol_dict\n",
        "    iter_best_cost_list= [iter_best_cost for x in range(pop1*pop2*exe_p)]\n",
        "    iter_best_cost_l.extend(iter_best_cost_list)\n",
        "    msr+= pop1*pop2*exe_p\n",
        ""
      ],
      "metadata": {
        "id": "iWiFg6SMDegY"
      },
      "execution_count": null,
      "outputs": []
    }
  ]
}